{
 "cells": [
  {
   "cell_type": "code",
   "execution_count": 72,
   "metadata": {
    "collapsed": true
   },
   "outputs": [],
   "source": [
    "import nltk\n",
    "from nltk.corpus import treebank"
   ]
  },
  {
   "cell_type": "code",
   "execution_count": 73,
   "metadata": {
    "collapsed": true
   },
   "outputs": [],
   "source": [
    "# input: a list of words\n",
    "# returns all the parses of a sentence\n",
    "def allParses(sentenceList):\n",
    "\treturn parser.parse(sentenceList)"
   ]
  },
  {
   "cell_type": "code",
   "execution_count": 74,
   "metadata": {
    "collapsed": true
   },
   "outputs": [],
   "source": [
    "# input: a list of parse trees\n",
    "# prints all the parse trees\n",
    "def printParses(parses):\n",
    "\tfor tree in parses:\n",
    "\t\tprint(tree)"
   ]
  },
  {
   "cell_type": "code",
   "execution_count": 75,
   "metadata": {
    "collapsed": true
   },
   "outputs": [],
   "source": [
    "# input: a sentence as a string or as a list of words\n",
    "# prints a sentence, then parses it and prints all the parse trees\n",
    "def processSentence(sentence):\n",
    "\tsentenceList = sentence\n",
    "\tif isinstance(sentence,str):\n",
    "\t\tsentenceList = sentence.split(' ')\n",
    "\tprint('Original sentence: ' + ' '.join(sentenceList))\n",
    "\tprintParses(allParses(sentenceList))"
   ]
  },
  {
   "cell_type": "code",
   "execution_count": 76,
   "metadata": {
    "collapsed": true
   },
   "outputs": [],
   "source": [
    "def mainScript():\n",
    "\tprocessSentence('I like NLP')\n",
    "\tprocessSentence('the students love the subject')"
   ]
  },
  {
   "cell_type": "code",
   "execution_count": 80,
   "metadata": {},
   "outputs": [
    {
     "name": "stdout",
     "output_type": "stream",
     "text": [
      "Productions for 1:\n",
      "[S -> PP-TMP , NP-SBJ VP ., PP-TMP -> IN NP, IN -> 'In', NP -> NNP, NNP -> 'July', , -> ',', NP-SBJ -> DT NNP NNP NNP, DT -> 'the', NNP -> 'Environmental', NNP -> 'Protection', NNP -> 'Agency', VP -> VBD NP PP-CLR, VBD -> 'imposed', NP -> DT JJ NN, DT -> 'a', JJ -> 'gradual', NN -> 'ban', PP-CLR -> IN NP, IN -> 'on', NP -> NP PP, NP -> ADJP NNS, ADJP -> RB DT, RB -> 'virtually', DT -> 'all', NNS -> 'uses', PP -> IN NP, IN -> 'of', NP -> NN, NN -> 'asbestos', . -> '.']\n",
      "\n",
      "\n",
      "Productions for 2:\n",
      "[S -> NP-SBJ VP . '', NP-SBJ -> EX, EX -> 'There', VP -> VBZ NP-PRD PP-LOC ADVP-TMP, VBZ -> 'is', NP-PRD -> DT NN, DT -> 'no', NN -> 'asbestos', PP-LOC -> IN NP, IN -> 'in', NP -> PRP$ NNS, PRP$ -> 'our', NNS -> 'products', ADVP-TMP -> RB, RB -> 'now', . -> '.', '' -> \"''\"]\n",
      "\n",
      "\n",
      "Productions for 3:\n",
      "[S -> NP-SBJ VP ., NP-SBJ -> DT JJ NN NNS, DT -> 'The', JJ -> 'top', NN -> 'money', NNS -> 'funds', VP -> VBP ADVP-TMP VP, VBP -> 'are', ADVP-TMP -> RB, RB -> 'currently', VP -> VBG NP, VBG -> 'yielding', NP -> QP NN, QP -> RB IN CD, RB -> 'well', IN -> 'over', CD -> '9', NN -> '%', . -> '.']\n",
      "\n",
      "\n"
     ]
    }
   ],
   "source": [
    "# here we load in the sentences\n",
    "sentence22 = treebank.parsed_sents('wsj_0003.mrg')[21]\n",
    "sentence7 = treebank.parsed_sents('wsj_0003.mrg')[6]\n",
    "sentence13 = treebank.parsed_sents('wsj_0004.mrg')[12]\n",
    "\n",
    "# here we define a grammar\n",
    "grammar = nltk.CFG.fromstring(\"\"\"\n",
    "S -> NP VP\n",
    "NP -> Det N | 'NLP' | 'I'\n",
    "VP -> V NP\n",
    "Det -> 'the'\n",
    "N -> 'students' | 'subject'\n",
    "V -> 'like' | 'love'\n",
    "\"\"\")\n",
    "\n",
    "# here we let nltk construct a chart parser from our grammar\n",
    "parser = nltk.ChartParser(grammar)\n",
    "index = 0\n",
    "for sent in [sentence22, sentence7, sentence13]:\n",
    "    index+=1\n",
    "    print('Productions for %s:' % (index))\n",
    "    print(sent.productions())\n",
    "    sent.draw()\n",
    "    print('\\n')\n",
    "    "
   ]
  },
  {
   "cell_type": "code",
   "execution_count": null,
   "metadata": {
    "collapsed": true
   },
   "outputs": [],
   "source": []
  },
  {
   "cell_type": "code",
   "execution_count": null,
   "metadata": {
    "collapsed": true
   },
   "outputs": [],
   "source": []
  },
  {
   "cell_type": "code",
   "execution_count": null,
   "metadata": {
    "collapsed": true
   },
   "outputs": [],
   "source": []
  }
 ],
 "metadata": {
  "kernelspec": {
   "display_name": "Python 3",
   "language": "python",
   "name": "python3"
  },
  "language_info": {
   "codemirror_mode": {
    "name": "ipython",
    "version": 3
   },
   "file_extension": ".py",
   "mimetype": "text/x-python",
   "name": "python",
   "nbconvert_exporter": "python",
   "pygments_lexer": "ipython3",
   "version": "3.6.3"
  }
 },
 "nbformat": 4,
 "nbformat_minor": 2
}
